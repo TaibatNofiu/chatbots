{
  "nbformat": 4,
  "nbformat_minor": 0,
  "metadata": {
    "colab": {
      "provenance": [],
      "mount_file_id": "1MV_LXQ1nyaWlEQhSx3msi-Sple5kVW77",
      "authorship_tag": "ABX9TyMkMkOWbgCyS9ivaU5XKn7R",
      "include_colab_link": true
    },
    "kernelspec": {
      "name": "python3",
      "display_name": "Python 3"
    },
    "language_info": {
      "name": "python"
    }
  },
  "cells": [
    {
      "cell_type": "markdown",
      "metadata": {
        "id": "view-in-github",
        "colab_type": "text"
      },
      "source": [
        "<a href=\"https://colab.research.google.com/github/TaibatNofiu/chatbots/blob/main/Chatbot.ipynb\" target=\"_parent\"><img src=\"https://colab.research.google.com/assets/colab-badge.svg\" alt=\"Open In Colab\"/></a>"
      ]
    },
    {
      "cell_type": "code",
      "execution_count": 1,
      "metadata": {
        "colab": {
          "base_uri": "https://localhost:8080/"
        },
        "id": "bJHgi-C-mtI7",
        "outputId": "de818792-e97c-4c0e-d6a6-f8d507d95fec"
      },
      "outputs": [
        {
          "output_type": "stream",
          "name": "stdout",
          "text": [
            "Requirement already satisfied: nltk in /usr/local/lib/python3.11/dist-packages (3.9.1)\n",
            "Requirement already satisfied: click in /usr/local/lib/python3.11/dist-packages (from nltk) (8.1.8)\n",
            "Requirement already satisfied: joblib in /usr/local/lib/python3.11/dist-packages (from nltk) (1.4.2)\n",
            "Requirement already satisfied: regex>=2021.8.3 in /usr/local/lib/python3.11/dist-packages (from nltk) (2024.11.6)\n",
            "Requirement already satisfied: tqdm in /usr/local/lib/python3.11/dist-packages (from nltk) (4.67.1)\n"
          ]
        }
      ],
      "source": [
        "# Install NLTK and download necessary resources such as tokenizers and stopwords.\n",
        "!pip install nltk # Uncomment to install"
      ]
    },
    {
      "cell_type": "code",
      "source": [
        "import nltk"
      ],
      "metadata": {
        "id": "vucVB1fwmvFm"
      },
      "execution_count": 3,
      "outputs": []
    },
    {
      "cell_type": "code",
      "source": [
        "# First time only\n",
        "nltk.download('punkt')  # Sentence and word tokenizer\n",
        "nltk.download('stopwords')  # Common words to exclude (e.g., 'the', 'is')\n",
        "nltk.download('wordnet')  # Lexical database for lemmatization"
      ],
      "metadata": {
        "colab": {
          "base_uri": "https://localhost:8080/"
        },
        "id": "oZoz9EE9m2qS",
        "outputId": "a755d7bc-1677-4043-d440-9a666b0966d7"
      },
      "execution_count": 4,
      "outputs": [
        {
          "output_type": "stream",
          "name": "stderr",
          "text": [
            "[nltk_data] Downloading package punkt to /root/nltk_data...\n",
            "[nltk_data]   Unzipping tokenizers/punkt.zip.\n",
            "[nltk_data] Downloading package stopwords to /root/nltk_data...\n",
            "[nltk_data]   Unzipping corpora/stopwords.zip.\n",
            "[nltk_data] Downloading package wordnet to /root/nltk_data...\n"
          ]
        },
        {
          "output_type": "execute_result",
          "data": {
            "text/plain": [
              "True"
            ]
          },
          "metadata": {},
          "execution_count": 4
        }
      ]
    },
    {
      "cell_type": "code",
      "source": [
        "# Load text file\n",
        "with open('alice_in_wonderland.txt', 'r', encoding='utf-8') as f:\n",
        "    text = f.read().replace('\\n', ' ')"
      ],
      "metadata": {
        "id": "i-L6ooivm7qq"
      },
      "execution_count": 6,
      "outputs": []
    },
    {
      "cell_type": "code",
      "source": [
        "# Preprocessing involves tokenizing, removing stopwords, and lemmatizing (reducing words to their base form).\n",
        "from nltk.tokenize import word_tokenize\n",
        "from nltk.corpus import stopwords\n",
        "from nltk.stem import WordNetLemmatizer\n",
        "import string\n",
        "\n",
        "# Initialize stopwords and lemmatizer\n",
        "stop_words = set(stopwords.words('english'))\n",
        "lemmatizer = WordNetLemmatizer()\n",
        "\n",
        "# Preprocess each sentence\n",
        "def preprocess(sentence):\n",
        "    tokens = word_tokenize(sentence.lower())\n",
        "    tokens = [word for word in tokens if word not in stop_words and word not in string.punctuation]\n",
        "    return [lemmatizer.lemmatize(token) for token in tokens]\n",
        "\n",
        "# Tokenize text into sentences\n",
        "sentences = nltk.sent_tokenize(text)\n",
        "corpus = [preprocess(sentence) for sentence in sentences]"
      ],
      "metadata": {
        "id": "GLc9ceeZnG-_"
      },
      "execution_count": 10,
      "outputs": []
    },
    {
      "cell_type": "code",
      "source": [
        "def jaccard_similarity(query, sentence):\n",
        "    query_set = set(preprocess(query))\n",
        "    sentence_set = set(sentence)\n",
        "    return len(query_set.intersection(sentence_set)) / len(query_set.union(sentence_set))\n",
        "\n",
        "def get_response(query):\n",
        "    max_similarity = 0\n",
        "    best_response = \"\"\n",
        "    for i, sentence in enumerate(corpus):\n",
        "        similarity = jaccard_similarity(query, sentence)\n",
        "        if similarity > max_similarity:\n",
        "            max_similarity = similarity\n",
        "            #best_response = \" \".join(sentence)\n",
        "            best_response = sentences[i] # Use the original sentence with stopwords included\n",
        "    return best_response"
      ],
      "metadata": {
        "id": "IgVlaM0Gni8g"
      },
      "execution_count": 11,
      "outputs": []
    },
    {
      "cell_type": "code",
      "source": [
        "# Example query\n",
        "user_query = \"Who does Alice meet first in Wonderland?\"\n",
        "response = get_response(user_query)\n",
        "print(response)"
      ],
      "metadata": {
        "id": "TIcQfl9XohaL"
      },
      "execution_count": null,
      "outputs": []
    }
  ]
}